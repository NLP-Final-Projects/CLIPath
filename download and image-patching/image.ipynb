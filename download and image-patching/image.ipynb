{
  "nbformat": 4,
  "nbformat_minor": 0,
  "metadata": {
    "colab": {
      "provenance": []
    },
    "kernelspec": {
      "name": "python3",
      "display_name": "Python 3"
    },
    "language_info": {
      "name": "python"
    }
  },
  "cells": [
    {
      "cell_type": "markdown",
      "source": [
        "<p dir=\"rtl\"> گوگل درایو را مانت میکنیم. از درایو برای ذخیره‌سازی عکس‌های پردازش شده استفاده می‌کنیم. </p>"
      ],
      "metadata": {
        "id": "qfjhawb5JBQS"
      }
    },
    {
      "cell_type": "code",
      "source": [
        "from google.colab import drive\n",
        "drive.mount('/content/drive')"
      ],
      "metadata": {
        "colab": {
          "base_uri": "https://localhost:8080/"
        },
        "id": "2SgMtO9s16mt",
        "outputId": "f88f2016-1083-4c23-9d95-09272ba3d5ad"
      },
      "execution_count": 1,
      "outputs": [
        {
          "output_type": "stream",
          "name": "stdout",
          "text": [
            "Mounted at /content/drive\n"
          ]
        }
      ]
    },
    {
      "cell_type": "markdown",
      "source": [
        "<p dir=\"rtl\"> برای دانلود تصاویر پاتولوژی نیاز است GDC Client نصب شود. سعی می‌کنیم این پکیج را build کنیم. </p>"
      ],
      "metadata": {
        "id": "Vis9GEa1JVZT"
      }
    },
    {
      "cell_type": "code",
      "execution_count": null,
      "metadata": {
        "colab": {
          "base_uri": "https://localhost:8080/"
        },
        "id": "qIZHQGSJ11Z5",
        "outputId": "4bce2e98-64b1-48d2-b154-0aac267ebbf3"
      },
      "outputs": [
        {
          "output_type": "stream",
          "name": "stdout",
          "text": [
            "Cloning into 'gdc-client'...\n",
            "remote: Enumerating objects: 2631, done.\u001b[K\n",
            "remote: Counting objects: 100% (315/315), done.\u001b[K\n",
            "remote: Compressing objects: 100% (115/115), done.\u001b[K\n",
            "remote: Total 2631 (delta 207), reused 259 (delta 191), pack-reused 2316\u001b[K\n",
            "Receiving objects: 100% (2631/2631), 6.12 MiB | 31.81 MiB/s, done.\n",
            "Resolving deltas: 100% (1618/1618), done.\n",
            "/content/gdc-client\n",
            "Looking in indexes: https://pypi.org/simple, https://us-python.pkg.dev/colab-wheels/public/simple/\n",
            "Collecting certifi==2021.10.8\n",
            "  Downloading certifi-2021.10.8-py2.py3-none-any.whl (149 kB)\n",
            "\u001b[2K     \u001b[90m━━━━━━━━━━━━━━━━━━━━━━━━━━━━━━━━━━━━━━━\u001b[0m \u001b[32m149.2/149.2 KB\u001b[0m \u001b[31m4.3 MB/s\u001b[0m eta \u001b[36m0:00:00\u001b[0m\n",
            "\u001b[?25hRequirement already satisfied: cffi==1.15.1 in /usr/local/lib/python3.8/dist-packages (from -r requirements.txt (line 9)) (1.15.1)\n",
            "Collecting chardet==3.0.4\n",
            "  Downloading chardet-3.0.4-py2.py3-none-any.whl (133 kB)\n",
            "\u001b[2K     \u001b[90m━━━━━━━━━━━━━━━━━━━━━━━━━━━━━━━━━━━━━━\u001b[0m \u001b[32m133.4/133.4 KB\u001b[0m \u001b[31m13.3 MB/s\u001b[0m eta \u001b[36m0:00:00\u001b[0m\n",
            "\u001b[?25hCollecting cryptography==2.8\n",
            "  Downloading cryptography-2.8-cp34-abi3-manylinux2010_x86_64.whl (2.3 MB)\n",
            "\u001b[2K     \u001b[90m━━━━━━━━━━━━━━━━━━━━━━━━━━━━━━━━━━━━━━━━\u001b[0m \u001b[32m2.3/2.3 MB\u001b[0m \u001b[31m40.9 MB/s\u001b[0m eta \u001b[36m0:00:00\u001b[0m\n",
            "\u001b[?25hCollecting idna==2.8\n",
            "  Downloading idna-2.8-py2.py3-none-any.whl (58 kB)\n",
            "\u001b[2K     \u001b[90m━━━━━━━━━━━━━━━━━━━━━━━━━━━━━━━━━━━━━━━━\u001b[0m \u001b[32m58.6/58.6 KB\u001b[0m \u001b[31m6.1 MB/s\u001b[0m eta \u001b[36m0:00:00\u001b[0m\n",
            "\u001b[?25hCollecting intervaltree==3.0.2\n",
            "  Downloading intervaltree-3.0.2.tar.gz (30 kB)\n",
            "  Preparing metadata (setup.py) ... \u001b[?25l\u001b[?25hdone\n",
            "Collecting jsonschema==2.6.0\n",
            "  Downloading jsonschema-2.6.0-py2.py3-none-any.whl (39 kB)\n",
            "Collecting lxml==4.4.2\n",
            "  Downloading lxml-4.4.2-cp38-cp38-manylinux1_x86_64.whl (5.6 MB)\n",
            "\u001b[2K     \u001b[90m━━━━━━━━━━━━━━━━━━━━━━━━━━━━━━━━━━━━━━━━\u001b[0m \u001b[32m5.6/5.6 MB\u001b[0m \u001b[31m83.1 MB/s\u001b[0m eta \u001b[36m0:00:00\u001b[0m\n",
            "\u001b[?25hCollecting ndg-httpsclient==0.5.0\n",
            "  Downloading ndg_httpsclient-0.5.0-py3-none-any.whl (30 kB)\n",
            "Collecting progressbar2==3.43.1\n",
            "  Downloading progressbar2-3.43.1-py2.py3-none-any.whl (21 kB)\n",
            "Collecting pyasn1==0.4.3\n",
            "  Downloading pyasn1-0.4.3-py2.py3-none-any.whl (72 kB)\n",
            "\u001b[2K     \u001b[90m━━━━━━━━━━━━━━━━━━━━━━━━━━━━━━━━━━━━━━━━\u001b[0m \u001b[32m72.6/72.6 KB\u001b[0m \u001b[31m9.5 MB/s\u001b[0m eta \u001b[36m0:00:00\u001b[0m\n",
            "\u001b[?25hRequirement already satisfied: pycparser==2.21 in /usr/local/lib/python3.8/dist-packages (from -r requirements.txt (line 33)) (2.21)\n",
            "Collecting pyopenssl==18.0.0\n",
            "  Downloading pyOpenSSL-18.0.0-py2.py3-none-any.whl (53 kB)\n",
            "\u001b[2K     \u001b[90m━━━━━━━━━━━━━━━━━━━━━━━━━━━━━━━━━━━━━━━━\u001b[0m \u001b[32m53.1/53.1 KB\u001b[0m \u001b[31m5.8 MB/s\u001b[0m eta \u001b[36m0:00:00\u001b[0m\n",
            "\u001b[?25hCollecting python-utils==2.7.1\n",
            "  Downloading python_utils-2.7.1-py2.py3-none-any.whl (14 kB)\n",
            "Collecting pyyaml==5.3.1\n",
            "  Downloading PyYAML-5.3.1.tar.gz (269 kB)\n",
            "\u001b[2K     \u001b[90m━━━━━━━━━━━━━━━━━━━━━━━━━━━━━━━━━━━━━━\u001b[0m \u001b[32m269.4/269.4 KB\u001b[0m \u001b[31m27.4 MB/s\u001b[0m eta \u001b[36m0:00:00\u001b[0m\n",
            "\u001b[?25h  Preparing metadata (setup.py) ... \u001b[?25l\u001b[?25hdone\n",
            "Collecting requests==2.22.0\n",
            "  Downloading requests-2.22.0-py2.py3-none-any.whl (57 kB)\n",
            "\u001b[2K     \u001b[90m━━━━━━━━━━━━━━━━━━━━━━━━━━━━━━━━━━━━━━━━\u001b[0m \u001b[32m58.0/58.0 KB\u001b[0m \u001b[31m7.3 MB/s\u001b[0m eta \u001b[36m0:00:00\u001b[0m\n",
            "\u001b[?25hCollecting six==1.16.0\n",
            "  Downloading six-1.16.0-py2.py3-none-any.whl (11 kB)\n",
            "Requirement already satisfied: sortedcontainers==2.4.0 in /usr/local/lib/python3.8/dist-packages (from -r requirements.txt (line 51)) (2.4.0)\n",
            "Collecting termcolor==1.1.0\n",
            "  Downloading termcolor-1.1.0.tar.gz (3.9 kB)\n",
            "  Preparing metadata (setup.py) ... \u001b[?25l\u001b[?25hdone\n",
            "Collecting urllib3==1.25.11\n",
            "  Downloading urllib3-1.25.11-py2.py3-none-any.whl (127 kB)\n",
            "\u001b[2K     \u001b[90m━━━━━━━━━━━━━━━━━━━━━━━━━━━━━━━━━━━━━━\u001b[0m \u001b[32m128.0/128.0 KB\u001b[0m \u001b[31m14.2 MB/s\u001b[0m eta \u001b[36m0:00:00\u001b[0m\n",
            "\u001b[?25hBuilding wheels for collected packages: intervaltree, pyyaml, termcolor\n",
            "  Building wheel for intervaltree (setup.py) ... \u001b[?25l\u001b[?25hdone\n",
            "  Created wheel for intervaltree: filename=intervaltree-3.0.2-py3-none-any.whl size=25804 sha256=4b6800202f6402910a9f2c5683fd08b6d6bee3fb50d72d899ef74667fac207aa\n",
            "  Stored in directory: /root/.cache/pip/wheels/cd/31/73/2a37de8f93a2c05a2c19734f7039756d3eb1f9de85971b86df\n",
            "  Building wheel for pyyaml (setup.py) ... \u001b[?25l\u001b[?25hdone\n",
            "  Created wheel for pyyaml: filename=PyYAML-5.3.1-cp38-cp38-linux_x86_64.whl size=44634 sha256=be81d85a00b3b63f137de9ca25d4fa269e5fe7523aa08627dc4b9187b4f51a69\n",
            "  Stored in directory: /root/.cache/pip/wheels/13/90/db/290ab3a34f2ef0b5a0f89235dc2d40fea83e77de84ed2dc05c\n",
            "  Building wheel for termcolor (setup.py) ... \u001b[?25l\u001b[?25hdone\n",
            "  Created wheel for termcolor: filename=termcolor-1.1.0-py3-none-any.whl size=4849 sha256=a27f263d169bc2bd6c8d7c7d0b66a2ce75307c31df39e56a393e7b50a0c727a9\n",
            "  Stored in directory: /root/.cache/pip/wheels/a0/16/9c/5473df82468f958445479c59e784896fa24f4a5fc024b0f501\n",
            "Successfully built intervaltree pyyaml termcolor\n",
            "Installing collected packages: termcolor, pyasn1, jsonschema, chardet, certifi, urllib3, six, pyyaml, lxml, intervaltree, idna, requests, python-utils, cryptography, pyopenssl, progressbar2, ndg-httpsclient\n",
            "  Attempting uninstall: termcolor\n",
            "    Found existing installation: termcolor 2.2.0\n",
            "    Uninstalling termcolor-2.2.0:\n",
            "      Successfully uninstalled termcolor-2.2.0\n",
            "  Attempting uninstall: pyasn1\n",
            "    Found existing installation: pyasn1 0.4.8\n",
            "    Uninstalling pyasn1-0.4.8:\n",
            "      Successfully uninstalled pyasn1-0.4.8\n",
            "  Attempting uninstall: jsonschema\n",
            "    Found existing installation: jsonschema 4.3.3\n",
            "    Uninstalling jsonschema-4.3.3:\n",
            "      Successfully uninstalled jsonschema-4.3.3\n",
            "  Attempting uninstall: chardet\n",
            "    Found existing installation: chardet 4.0.0\n",
            "    Uninstalling chardet-4.0.0:\n",
            "      Successfully uninstalled chardet-4.0.0\n",
            "  Attempting uninstall: certifi\n",
            "    Found existing installation: certifi 2022.12.7\n",
            "    Uninstalling certifi-2022.12.7:\n",
            "      Successfully uninstalled certifi-2022.12.7\n",
            "  Attempting uninstall: urllib3\n",
            "    Found existing installation: urllib3 1.24.3\n",
            "    Uninstalling urllib3-1.24.3:\n",
            "      Successfully uninstalled urllib3-1.24.3\n",
            "  Attempting uninstall: six\n",
            "    Found existing installation: six 1.15.0\n",
            "    Uninstalling six-1.15.0:\n",
            "      Successfully uninstalled six-1.15.0\n",
            "  Attempting uninstall: pyyaml\n",
            "    Found existing installation: PyYAML 6.0\n",
            "    Uninstalling PyYAML-6.0:\n",
            "      Successfully uninstalled PyYAML-6.0\n",
            "  Attempting uninstall: lxml\n",
            "    Found existing installation: lxml 4.9.2\n",
            "    Uninstalling lxml-4.9.2:\n",
            "      Successfully uninstalled lxml-4.9.2\n",
            "  Attempting uninstall: intervaltree\n",
            "    Found existing installation: intervaltree 2.1.0\n",
            "    Uninstalling intervaltree-2.1.0:\n",
            "      Successfully uninstalled intervaltree-2.1.0\n",
            "  Attempting uninstall: idna\n",
            "    Found existing installation: idna 2.10\n",
            "    Uninstalling idna-2.10:\n",
            "      Successfully uninstalled idna-2.10\n",
            "  Attempting uninstall: requests\n",
            "    Found existing installation: requests 2.25.1\n",
            "    Uninstalling requests-2.25.1:\n",
            "      Successfully uninstalled requests-2.25.1\n",
            "  Attempting uninstall: python-utils\n",
            "    Found existing installation: python-utils 3.5.0\n",
            "    Uninstalling python-utils-3.5.0:\n",
            "      Successfully uninstalled python-utils-3.5.0\n",
            "  Attempting uninstall: progressbar2\n",
            "    Found existing installation: progressbar2 3.38.0\n",
            "    Uninstalling progressbar2-3.38.0:\n",
            "      Successfully uninstalled progressbar2-3.38.0\n",
            "\u001b[31mERROR: pip's dependency resolver does not currently take into account all the packages that are installed. This behaviour is the source of the following dependency conflicts.\n",
            "ipython 7.9.0 requires jedi>=0.10, which is not installed.\n",
            "pyasn1-modules 0.2.8 requires pyasn1<0.5.0,>=0.4.6, but you have pyasn1 0.4.3 which is incompatible.\n",
            "google-colab 1.0.0 requires requests>=2.25.1, but you have requests 2.22.0 which is incompatible.\n",
            "altair 4.2.2 requires jsonschema>=3.0, but you have jsonschema 2.6.0 which is incompatible.\u001b[0m\u001b[31m\n",
            "\u001b[0mSuccessfully installed certifi-2021.10.8 chardet-3.0.4 cryptography-2.8 idna-2.8 intervaltree-3.0.2 jsonschema-2.6.0 lxml-4.4.2 ndg-httpsclient-0.5.0 progressbar2-3.43.1 pyasn1-0.4.3 pyopenssl-18.0.0 python-utils-2.7.1 pyyaml-5.3.1 requests-2.22.0 six-1.16.0 termcolor-1.1.0 urllib3-1.25.11\n"
          ]
        }
      ],
      "source": [
        "!git clone https://github.com/NCI-GDC/gdc-client.git\n",
        "%cd /content/gdc-client\n",
        "!pip install -r requirements.txt"
      ]
    },
    {
      "cell_type": "code",
      "source": [
        "%cd /content/gdc-client\n",
        "!python setup.py install 2>&1 | tee -a install.log"
      ],
      "metadata": {
        "colab": {
          "base_uri": "https://localhost:8080/"
        },
        "id": "BfEgvlqE2FHQ",
        "outputId": "8a11eb15-690a-499d-daee-2eb404dad636"
      },
      "execution_count": null,
      "outputs": [
        {
          "output_type": "stream",
          "name": "stdout",
          "text": [
            "/content/gdc-client\n",
            "running install\n",
            "running bdist_egg\n",
            "running egg_info\n",
            "creating gdc_client.egg-info\n",
            "writing gdc_client.egg-info/PKG-INFO\n",
            "writing dependency_links to gdc_client.egg-info/dependency_links.txt\n",
            "writing requirements to gdc_client.egg-info/requires.txt\n",
            "writing top-level names to gdc_client.egg-info/top_level.txt\n",
            "writing manifest file 'gdc_client.egg-info/SOURCES.txt'\n",
            "adding license file 'LICENSE'\n",
            "adding license file 'NOTICE.txt'\n",
            "writing manifest file 'gdc_client.egg-info/SOURCES.txt'\n",
            "installing library code to build/bdist.linux-x86_64/egg\n",
            "running install_lib\n",
            "running build_py\n",
            "creating build\n",
            "creating build/lib\n",
            "creating build/lib/gdc_client\n",
            "copying gdc_client/__init__.py -> build/lib/gdc_client\n",
            "copying gdc_client/exceptions.py -> build/lib/gdc_client\n",
            "copying gdc_client/defaults.py -> build/lib/gdc_client\n",
            "copying gdc_client/version.py -> build/lib/gdc_client\n",
            "copying gdc_client/utils.py -> build/lib/gdc_client\n",
            "creating build/lib/gdc_client/query\n",
            "copying gdc_client/query/__init__.py -> build/lib/gdc_client/query\n",
            "copying gdc_client/query/versions.py -> build/lib/gdc_client/query\n",
            "copying gdc_client/query/index.py -> build/lib/gdc_client/query\n",
            "creating build/lib/gdc_client/upload\n",
            "copying gdc_client/upload/parser.py -> build/lib/gdc_client/upload\n",
            "copying gdc_client/upload/manifest.py -> build/lib/gdc_client/upload\n",
            "copying gdc_client/upload/__init__.py -> build/lib/gdc_client/upload\n",
            "copying gdc_client/upload/exceptions.py -> build/lib/gdc_client/upload\n",
            "copying gdc_client/upload/schema.py -> build/lib/gdc_client/upload\n",
            "copying gdc_client/upload/client.py -> build/lib/gdc_client/upload\n",
            "creating build/lib/gdc_client/common\n",
            "copying gdc_client/common/__init__.py -> build/lib/gdc_client/common\n",
            "copying gdc_client/common/config.py -> build/lib/gdc_client/common\n",
            "creating build/lib/gdc_client/parcel\n",
            "copying gdc_client/parcel/const.py -> build/lib/gdc_client/parcel\n",
            "copying gdc_client/parcel/manifest.py -> build/lib/gdc_client/parcel\n",
            "copying gdc_client/parcel/segment.py -> build/lib/gdc_client/parcel\n",
            "copying gdc_client/parcel/portability.py -> build/lib/gdc_client/parcel\n",
            "copying gdc_client/parcel/__init__.py -> build/lib/gdc_client/parcel\n",
            "copying gdc_client/parcel/http_client.py -> build/lib/gdc_client/parcel\n",
            "copying gdc_client/parcel/download_stream.py -> build/lib/gdc_client/parcel\n",
            "copying gdc_client/parcel/log.py -> build/lib/gdc_client/parcel\n",
            "copying gdc_client/parcel/defaults.py -> build/lib/gdc_client/parcel\n",
            "copying gdc_client/parcel/utils.py -> build/lib/gdc_client/parcel\n",
            "copying gdc_client/parcel/client.py -> build/lib/gdc_client/parcel\n",
            "creating build/lib/gdc_client/auth\n",
            "copying gdc_client/auth/parser.py -> build/lib/gdc_client/auth\n",
            "copying gdc_client/auth/auth.py -> build/lib/gdc_client/auth\n",
            "copying gdc_client/auth/__init__.py -> build/lib/gdc_client/auth\n",
            "creating build/lib/gdc_client/download\n",
            "copying gdc_client/download/parser.py -> build/lib/gdc_client/download\n",
            "copying gdc_client/download/__init__.py -> build/lib/gdc_client/download\n",
            "copying gdc_client/download/client.py -> build/lib/gdc_client/download\n",
            "creating build/lib/gdc_client/settings\n",
            "copying gdc_client/settings/parser.py -> build/lib/gdc_client/settings\n",
            "copying gdc_client/settings/__init__.py -> build/lib/gdc_client/settings\n",
            "creating build/lib/gdc_client/log\n",
            "copying gdc_client/log/parser.py -> build/lib/gdc_client/log\n",
            "copying gdc_client/log/__init__.py -> build/lib/gdc_client/log\n",
            "copying gdc_client/log/log.py -> build/lib/gdc_client/log\n",
            "creating build/lib/gdc_client/client\n",
            "copying gdc_client/client/parser.py -> build/lib/gdc_client/client\n",
            "copying gdc_client/client/__init__.py -> build/lib/gdc_client/client\n",
            "copying gdc_client/client/client.py -> build/lib/gdc_client/client\n",
            "creating build/bdist.linux-x86_64\n",
            "creating build/bdist.linux-x86_64/egg\n",
            "creating build/bdist.linux-x86_64/egg/gdc_client\n",
            "creating build/bdist.linux-x86_64/egg/gdc_client/query\n",
            "copying build/lib/gdc_client/query/__init__.py -> build/bdist.linux-x86_64/egg/gdc_client/query\n",
            "copying build/lib/gdc_client/query/versions.py -> build/bdist.linux-x86_64/egg/gdc_client/query\n",
            "copying build/lib/gdc_client/query/index.py -> build/bdist.linux-x86_64/egg/gdc_client/query\n",
            "copying build/lib/gdc_client/__init__.py -> build/bdist.linux-x86_64/egg/gdc_client\n",
            "copying build/lib/gdc_client/exceptions.py -> build/bdist.linux-x86_64/egg/gdc_client\n",
            "creating build/bdist.linux-x86_64/egg/gdc_client/upload\n",
            "copying build/lib/gdc_client/upload/parser.py -> build/bdist.linux-x86_64/egg/gdc_client/upload\n",
            "copying build/lib/gdc_client/upload/manifest.py -> build/bdist.linux-x86_64/egg/gdc_client/upload\n",
            "copying build/lib/gdc_client/upload/__init__.py -> build/bdist.linux-x86_64/egg/gdc_client/upload\n",
            "copying build/lib/gdc_client/upload/exceptions.py -> build/bdist.linux-x86_64/egg/gdc_client/upload\n",
            "copying build/lib/gdc_client/upload/schema.py -> build/bdist.linux-x86_64/egg/gdc_client/upload\n",
            "copying build/lib/gdc_client/upload/client.py -> build/bdist.linux-x86_64/egg/gdc_client/upload\n",
            "creating build/bdist.linux-x86_64/egg/gdc_client/common\n",
            "copying build/lib/gdc_client/common/__init__.py -> build/bdist.linux-x86_64/egg/gdc_client/common\n",
            "copying build/lib/gdc_client/common/config.py -> build/bdist.linux-x86_64/egg/gdc_client/common\n",
            "creating build/bdist.linux-x86_64/egg/gdc_client/parcel\n",
            "copying build/lib/gdc_client/parcel/const.py -> build/bdist.linux-x86_64/egg/gdc_client/parcel\n",
            "copying build/lib/gdc_client/parcel/manifest.py -> build/bdist.linux-x86_64/egg/gdc_client/parcel\n",
            "copying build/lib/gdc_client/parcel/segment.py -> build/bdist.linux-x86_64/egg/gdc_client/parcel\n",
            "copying build/lib/gdc_client/parcel/portability.py -> build/bdist.linux-x86_64/egg/gdc_client/parcel\n",
            "copying build/lib/gdc_client/parcel/__init__.py -> build/bdist.linux-x86_64/egg/gdc_client/parcel\n",
            "copying build/lib/gdc_client/parcel/http_client.py -> build/bdist.linux-x86_64/egg/gdc_client/parcel\n",
            "copying build/lib/gdc_client/parcel/download_stream.py -> build/bdist.linux-x86_64/egg/gdc_client/parcel\n",
            "copying build/lib/gdc_client/parcel/log.py -> build/bdist.linux-x86_64/egg/gdc_client/parcel\n",
            "copying build/lib/gdc_client/parcel/defaults.py -> build/bdist.linux-x86_64/egg/gdc_client/parcel\n",
            "copying build/lib/gdc_client/parcel/utils.py -> build/bdist.linux-x86_64/egg/gdc_client/parcel\n",
            "copying build/lib/gdc_client/parcel/client.py -> build/bdist.linux-x86_64/egg/gdc_client/parcel\n",
            "copying build/lib/gdc_client/defaults.py -> build/bdist.linux-x86_64/egg/gdc_client\n",
            "creating build/bdist.linux-x86_64/egg/gdc_client/auth\n",
            "copying build/lib/gdc_client/auth/parser.py -> build/bdist.linux-x86_64/egg/gdc_client/auth\n",
            "copying build/lib/gdc_client/auth/auth.py -> build/bdist.linux-x86_64/egg/gdc_client/auth\n",
            "copying build/lib/gdc_client/auth/__init__.py -> build/bdist.linux-x86_64/egg/gdc_client/auth\n",
            "copying build/lib/gdc_client/version.py -> build/bdist.linux-x86_64/egg/gdc_client\n",
            "creating build/bdist.linux-x86_64/egg/gdc_client/download\n",
            "copying build/lib/gdc_client/download/parser.py -> build/bdist.linux-x86_64/egg/gdc_client/download\n",
            "copying build/lib/gdc_client/download/__init__.py -> build/bdist.linux-x86_64/egg/gdc_client/download\n",
            "copying build/lib/gdc_client/download/client.py -> build/bdist.linux-x86_64/egg/gdc_client/download\n",
            "creating build/bdist.linux-x86_64/egg/gdc_client/settings\n",
            "copying build/lib/gdc_client/settings/parser.py -> build/bdist.linux-x86_64/egg/gdc_client/settings\n",
            "copying build/lib/gdc_client/settings/__init__.py -> build/bdist.linux-x86_64/egg/gdc_client/settings\n",
            "creating build/bdist.linux-x86_64/egg/gdc_client/log\n",
            "copying build/lib/gdc_client/log/parser.py -> build/bdist.linux-x86_64/egg/gdc_client/log\n",
            "copying build/lib/gdc_client/log/__init__.py -> build/bdist.linux-x86_64/egg/gdc_client/log\n",
            "copying build/lib/gdc_client/log/log.py -> build/bdist.linux-x86_64/egg/gdc_client/log\n",
            "creating build/bdist.linux-x86_64/egg/gdc_client/client\n",
            "copying build/lib/gdc_client/client/parser.py -> build/bdist.linux-x86_64/egg/gdc_client/client\n",
            "copying build/lib/gdc_client/client/__init__.py -> build/bdist.linux-x86_64/egg/gdc_client/client\n",
            "copying build/lib/gdc_client/client/client.py -> build/bdist.linux-x86_64/egg/gdc_client/client\n",
            "copying build/lib/gdc_client/utils.py -> build/bdist.linux-x86_64/egg/gdc_client\n",
            "byte-compiling build/bdist.linux-x86_64/egg/gdc_client/query/__init__.py to __init__.cpython-38.pyc\n",
            "byte-compiling build/bdist.linux-x86_64/egg/gdc_client/query/versions.py to versions.cpython-38.pyc\n",
            "byte-compiling build/bdist.linux-x86_64/egg/gdc_client/query/index.py to index.cpython-38.pyc\n",
            "byte-compiling build/bdist.linux-x86_64/egg/gdc_client/__init__.py to __init__.cpython-38.pyc\n",
            "byte-compiling build/bdist.linux-x86_64/egg/gdc_client/exceptions.py to exceptions.cpython-38.pyc\n",
            "byte-compiling build/bdist.linux-x86_64/egg/gdc_client/upload/parser.py to parser.cpython-38.pyc\n",
            "byte-compiling build/bdist.linux-x86_64/egg/gdc_client/upload/manifest.py to manifest.cpython-38.pyc\n",
            "byte-compiling build/bdist.linux-x86_64/egg/gdc_client/upload/__init__.py to __init__.cpython-38.pyc\n",
            "byte-compiling build/bdist.linux-x86_64/egg/gdc_client/upload/exceptions.py to exceptions.cpython-38.pyc\n",
            "byte-compiling build/bdist.linux-x86_64/egg/gdc_client/upload/schema.py to schema.cpython-38.pyc\n",
            "byte-compiling build/bdist.linux-x86_64/egg/gdc_client/upload/client.py to client.cpython-38.pyc\n",
            "byte-compiling build/bdist.linux-x86_64/egg/gdc_client/common/__init__.py to __init__.cpython-38.pyc\n",
            "byte-compiling build/bdist.linux-x86_64/egg/gdc_client/common/config.py to config.cpython-38.pyc\n",
            "byte-compiling build/bdist.linux-x86_64/egg/gdc_client/parcel/const.py to const.cpython-38.pyc\n",
            "byte-compiling build/bdist.linux-x86_64/egg/gdc_client/parcel/manifest.py to manifest.cpython-38.pyc\n",
            "byte-compiling build/bdist.linux-x86_64/egg/gdc_client/parcel/segment.py to segment.cpython-38.pyc\n",
            "byte-compiling build/bdist.linux-x86_64/egg/gdc_client/parcel/portability.py to portability.cpython-38.pyc\n",
            "byte-compiling build/bdist.linux-x86_64/egg/gdc_client/parcel/__init__.py to __init__.cpython-38.pyc\n",
            "byte-compiling build/bdist.linux-x86_64/egg/gdc_client/parcel/http_client.py to http_client.cpython-38.pyc\n",
            "byte-compiling build/bdist.linux-x86_64/egg/gdc_client/parcel/download_stream.py to download_stream.cpython-38.pyc\n",
            "byte-compiling build/bdist.linux-x86_64/egg/gdc_client/parcel/log.py to log.cpython-38.pyc\n",
            "byte-compiling build/bdist.linux-x86_64/egg/gdc_client/parcel/defaults.py to defaults.cpython-38.pyc\n",
            "byte-compiling build/bdist.linux-x86_64/egg/gdc_client/parcel/utils.py to utils.cpython-38.pyc\n",
            "byte-compiling build/bdist.linux-x86_64/egg/gdc_client/parcel/client.py to client.cpython-38.pyc\n",
            "byte-compiling build/bdist.linux-x86_64/egg/gdc_client/defaults.py to defaults.cpython-38.pyc\n",
            "byte-compiling build/bdist.linux-x86_64/egg/gdc_client/auth/parser.py to parser.cpython-38.pyc\n",
            "byte-compiling build/bdist.linux-x86_64/egg/gdc_client/auth/auth.py to auth.cpython-38.pyc\n",
            "byte-compiling build/bdist.linux-x86_64/egg/gdc_client/auth/__init__.py to __init__.cpython-38.pyc\n",
            "byte-compiling build/bdist.linux-x86_64/egg/gdc_client/version.py to version.cpython-38.pyc\n",
            "byte-compiling build/bdist.linux-x86_64/egg/gdc_client/download/parser.py to parser.cpython-38.pyc\n",
            "byte-compiling build/bdist.linux-x86_64/egg/gdc_client/download/__init__.py to __init__.cpython-38.pyc\n",
            "byte-compiling build/bdist.linux-x86_64/egg/gdc_client/download/client.py to client.cpython-38.pyc\n",
            "byte-compiling build/bdist.linux-x86_64/egg/gdc_client/settings/parser.py to parser.cpython-38.pyc\n",
            "byte-compiling build/bdist.linux-x86_64/egg/gdc_client/settings/__init__.py to __init__.cpython-38.pyc\n",
            "byte-compiling build/bdist.linux-x86_64/egg/gdc_client/log/parser.py to parser.cpython-38.pyc\n",
            "byte-compiling build/bdist.linux-x86_64/egg/gdc_client/log/__init__.py to __init__.cpython-38.pyc\n",
            "byte-compiling build/bdist.linux-x86_64/egg/gdc_client/log/log.py to log.cpython-38.pyc\n",
            "byte-compiling build/bdist.linux-x86_64/egg/gdc_client/client/parser.py to parser.cpython-38.pyc\n",
            "byte-compiling build/bdist.linux-x86_64/egg/gdc_client/client/__init__.py to __init__.cpython-38.pyc\n",
            "byte-compiling build/bdist.linux-x86_64/egg/gdc_client/client/client.py to client.cpython-38.pyc\n",
            "byte-compiling build/bdist.linux-x86_64/egg/gdc_client/utils.py to utils.cpython-38.pyc\n",
            "creating build/bdist.linux-x86_64/egg/EGG-INFO\n",
            "installing scripts to build/bdist.linux-x86_64/egg/EGG-INFO/scripts\n",
            "running install_scripts\n",
            "running build_scripts\n",
            "creating build/scripts-3.8\n",
            "copying and adjusting bin/gdc-client -> build/scripts-3.8\n",
            "changing mode of build/scripts-3.8/gdc-client from 644 to 755\n",
            "creating build/bdist.linux-x86_64/egg/EGG-INFO/scripts\n",
            "copying build/scripts-3.8/gdc-client -> build/bdist.linux-x86_64/egg/EGG-INFO/scripts\n",
            "changing mode of build/bdist.linux-x86_64/egg/EGG-INFO/scripts/gdc-client to 755\n",
            "copying gdc_client.egg-info/PKG-INFO -> build/bdist.linux-x86_64/egg/EGG-INFO\n",
            "copying gdc_client.egg-info/SOURCES.txt -> build/bdist.linux-x86_64/egg/EGG-INFO\n",
            "copying gdc_client.egg-info/dependency_links.txt -> build/bdist.linux-x86_64/egg/EGG-INFO\n",
            "copying gdc_client.egg-info/requires.txt -> build/bdist.linux-x86_64/egg/EGG-INFO\n",
            "copying gdc_client.egg-info/top_level.txt -> build/bdist.linux-x86_64/egg/EGG-INFO\n",
            "zip_safe flag not set; analyzing archive contents...\n",
            "creating dist\n",
            "creating 'dist/gdc_client-1.6.2.dev1-py3.8.egg' and adding 'build/bdist.linux-x86_64/egg' to it\n",
            "removing 'build/bdist.linux-x86_64/egg' (and everything under it)\n",
            "Processing gdc_client-1.6.2.dev1-py3.8.egg\n",
            "Copying gdc_client-1.6.2.dev1-py3.8.egg to /usr/local/lib/python3.8/dist-packages\n",
            "Adding gdc-client 1.6.2.dev1 to easy-install.pth file\n",
            "Installing gdc-client script to /usr/local/bin\n",
            "\n",
            "Installed /usr/local/lib/python3.8/dist-packages/gdc_client-1.6.2.dev1-py3.8.egg\n",
            "Processing dependencies for gdc-client==1.6.2.dev1\n",
            "Searching for progressbar2==3.43.1\n",
            "Best match: progressbar2 3.43.1\n",
            "Adding progressbar2 3.43.1 to easy-install.pth file\n",
            "\n",
            "Using /usr/local/lib/python3.8/dist-packages\n",
            "Searching for requests==2.22.0\n",
            "Best match: requests 2.22.0\n",
            "Adding requests 2.22.0 to easy-install.pth file\n",
            "\n",
            "Using /usr/local/lib/python3.8/dist-packages\n",
            "Searching for termcolor==1.1.0\n",
            "Best match: termcolor 1.1.0\n",
            "Adding termcolor 1.1.0 to easy-install.pth file\n",
            "\n",
            "Using /usr/local/lib/python3.8/dist-packages\n",
            "Searching for intervaltree==3.0.2\n",
            "Best match: intervaltree 3.0.2\n",
            "Adding intervaltree 3.0.2 to easy-install.pth file\n",
            "\n",
            "Using /usr/local/lib/python3.8/dist-packages\n",
            "Searching for PyYAML==5.3.1\n",
            "Best match: PyYAML 5.3.1\n",
            "Adding PyYAML 5.3.1 to easy-install.pth file\n",
            "\n",
            "Using /usr/local/lib/python3.8/dist-packages\n",
            "Searching for pyOpenSSL==18.0.0\n",
            "Best match: pyOpenSSL 18.0.0\n",
            "Adding pyOpenSSL 18.0.0 to easy-install.pth file\n",
            "\n",
            "Using /usr/local/lib/python3.8/dist-packages\n",
            "Searching for pyasn1==0.4.3\n",
            "Best match: pyasn1 0.4.3\n",
            "Adding pyasn1 0.4.3 to easy-install.pth file\n",
            "\n",
            "Using /usr/local/lib/python3.8/dist-packages\n",
            "Searching for ndg-httpsclient==0.5.0\n",
            "Best match: ndg-httpsclient 0.5.0\n",
            "Adding ndg-httpsclient 0.5.0 to easy-install.pth file\n",
            "Installing ndg_httpclient script to /usr/local/bin\n",
            "\n",
            "Using /usr/local/lib/python3.8/dist-packages\n",
            "Searching for lxml==4.4.2\n",
            "Best match: lxml 4.4.2\n",
            "Adding lxml 4.4.2 to easy-install.pth file\n",
            "\n",
            "Using /usr/local/lib/python3.8/dist-packages\n",
            "Searching for jsonschema==2.6.0\n",
            "Best match: jsonschema 2.6.0\n",
            "Adding jsonschema 2.6.0 to easy-install.pth file\n",
            "Installing jsonschema script to /usr/local/bin\n",
            "\n",
            "Using /usr/local/lib/python3.8/dist-packages\n",
            "Searching for cryptography==2.8\n",
            "Best match: cryptography 2.8\n",
            "Adding cryptography 2.8 to easy-install.pth file\n",
            "\n",
            "Using /usr/local/lib/python3.8/dist-packages\n",
            "Searching for six==1.16.0\n",
            "Best match: six 1.16.0\n",
            "Adding six 1.16.0 to easy-install.pth file\n",
            "\n",
            "Using /usr/local/lib/python3.8/dist-packages\n",
            "Searching for python-utils==2.7.1\n",
            "Best match: python-utils 2.7.1\n",
            "Adding python-utils 2.7.1 to easy-install.pth file\n",
            "\n",
            "Using /usr/local/lib/python3.8/dist-packages\n",
            "Searching for urllib3==1.25.11\n",
            "Best match: urllib3 1.25.11\n",
            "Adding urllib3 1.25.11 to easy-install.pth file\n",
            "\n",
            "Using /usr/local/lib/python3.8/dist-packages\n",
            "Searching for chardet==3.0.4\n",
            "Best match: chardet 3.0.4\n",
            "Adding chardet 3.0.4 to easy-install.pth file\n",
            "Installing chardetect script to /usr/local/bin\n",
            "\n",
            "Using /usr/local/lib/python3.8/dist-packages\n",
            "Searching for certifi==2021.10.8\n",
            "Best match: certifi 2021.10.8\n",
            "Adding certifi 2021.10.8 to easy-install.pth file\n",
            "\n",
            "Using /usr/local/lib/python3.8/dist-packages\n",
            "Searching for idna==2.8\n",
            "Best match: idna 2.8\n",
            "Adding idna 2.8 to easy-install.pth file\n",
            "\n",
            "Using /usr/local/lib/python3.8/dist-packages\n",
            "Searching for sortedcontainers==2.4.0\n",
            "Best match: sortedcontainers 2.4.0\n",
            "Adding sortedcontainers 2.4.0 to easy-install.pth file\n",
            "\n",
            "Using /usr/local/lib/python3.8/dist-packages\n",
            "Searching for cffi==1.15.1\n",
            "Best match: cffi 1.15.1\n",
            "Adding cffi 1.15.1 to easy-install.pth file\n",
            "\n",
            "Using /usr/local/lib/python3.8/dist-packages\n",
            "Searching for pycparser==2.21\n",
            "Best match: pycparser 2.21\n",
            "Adding pycparser 2.21 to easy-install.pth file\n",
            "\n",
            "Using /usr/local/lib/python3.8/dist-packages\n",
            "Finished processing dependencies for gdc-client==1.6.2.dev1\n"
          ]
        }
      ]
    },
    {
      "cell_type": "code",
      "source": [
        "%cd .."
      ],
      "metadata": {
        "colab": {
          "base_uri": "https://localhost:8080/"
        },
        "id": "LkKPcKMS2HW9",
        "outputId": "7741abce-95c9-4f9e-b4b8-7b2099d1d641"
      },
      "execution_count": null,
      "outputs": [
        {
          "output_type": "stream",
          "name": "stdout",
          "text": [
            "/content\n"
          ]
        }
      ]
    },
    {
      "cell_type": "markdown",
      "source": [
        "<p dir=\"rtl\"> برای نرمال‌سازی تصاویر پاتولوژی نیاز است پکیج staintools نصب شود. </p>"
      ],
      "metadata": {
        "id": "lAb7JYwDJtKP"
      }
    },
    {
      "cell_type": "code",
      "source": [
        "!pip install spams\n",
        "!pip install staintools"
      ],
      "metadata": {
        "id": "ICoe3qV12KxO"
      },
      "execution_count": null,
      "outputs": []
    },
    {
      "cell_type": "markdown",
      "source": [
        "<p dir=\"rtl\"> پکیج openslide برای خواندن فایل با فرمت svs کاربرد دارد. تصاویر دانلود شده دارای فرمت svs هستند. </p>"
      ],
      "metadata": {
        "id": "1cBli9HuJ4eN"
      }
    },
    {
      "cell_type": "code",
      "source": [
        "!apt update && apt install -y openslide-tools\n",
        "!pip install openslide-python"
      ],
      "metadata": {
        "colab": {
          "base_uri": "https://localhost:8080/"
        },
        "id": "djE8Wirl2P_a",
        "outputId": "a6646b95-8e11-40f9-bed6-c8c4198fc93a"
      },
      "execution_count": null,
      "outputs": [
        {
          "output_type": "stream",
          "name": "stdout",
          "text": [
            "\u001b[33m\r0% [Working]\u001b[0m\r            \rGet:1 https://cloud.r-project.org/bin/linux/ubuntu focal-cran40/ InRelease [3,622 B]\n",
            "\u001b[33m\r0% [Connecting to archive.ubuntu.com (185.125.190.36)] [Waiting for headers] [1\u001b[0m\u001b[33m\r0% [Connecting to archive.ubuntu.com (185.125.190.36)] [Waiting for headers] [W\u001b[0m\r                                                                               \rIgn:2 https://developer.download.nvidia.com/compute/machine-learning/repos/ubuntu2004/x86_64  InRelease\n",
            "\u001b[33m\r0% [Connecting to archive.ubuntu.com (185.125.190.36)] [Waiting for headers] [C\u001b[0m\r                                                                               \rHit:3 https://developer.download.nvidia.com/compute/cuda/repos/ubuntu2004/x86_64  InRelease\n",
            "\u001b[33m\r0% [Connecting to archive.ubuntu.com (185.125.190.36)] [Waiting for headers] [C\u001b[0m\r                                                                               \rGet:4 http://security.ubuntu.com/ubuntu focal-security InRelease [114 kB]\n",
            "Hit:5 https://developer.download.nvidia.com/compute/machine-learning/repos/ubuntu2004/x86_64  Release\n",
            "Hit:6 http://archive.ubuntu.com/ubuntu focal InRelease\n",
            "Hit:7 http://ppa.launchpad.net/c2d4u.team/c2d4u4.0+/ubuntu focal InRelease\n",
            "Get:8 http://archive.ubuntu.com/ubuntu focal-updates InRelease [114 kB]\n",
            "Hit:9 http://ppa.launchpad.net/cran/libgit2/ubuntu focal InRelease\n",
            "Hit:11 http://ppa.launchpad.net/deadsnakes/ppa/ubuntu focal InRelease\n",
            "Get:12 http://archive.ubuntu.com/ubuntu focal-backports InRelease [108 kB]\n",
            "Hit:13 http://ppa.launchpad.net/graphics-drivers/ppa/ubuntu focal InRelease\n",
            "Hit:14 http://ppa.launchpad.net/ubuntugis/ppa/ubuntu focal InRelease\n",
            "Get:15 http://security.ubuntu.com/ubuntu focal-security/restricted amd64 Packages [1,937 kB]\n",
            "Get:16 http://archive.ubuntu.com/ubuntu focal-updates/universe amd64 Packages [1,297 kB]\n",
            "Get:17 http://security.ubuntu.com/ubuntu focal-security/main amd64 Packages [2,496 kB]\n",
            "Get:18 http://security.ubuntu.com/ubuntu focal-security/universe amd64 Packages [998 kB]\n",
            "Get:19 http://archive.ubuntu.com/ubuntu focal-updates/main amd64 Packages [2,970 kB]\n",
            "Fetched 10.0 MB in 3s (3,092 kB/s)\n",
            "Reading package lists... Done\n",
            "Building dependency tree       \n",
            "Reading state information... Done\n",
            "21 packages can be upgraded. Run 'apt list --upgradable' to see them.\n",
            "Reading package lists... Done\n",
            "Building dependency tree       \n",
            "Reading state information... Done\n",
            "The following package was automatically installed and is no longer required:\n",
            "  libnvidia-common-510\n",
            "Use 'apt autoremove' to remove it.\n",
            "The following additional packages will be installed:\n",
            "  libopenslide0\n",
            "Suggested packages:\n",
            "  libtiff-tools\n",
            "The following NEW packages will be installed:\n",
            "  libopenslide0 openslide-tools\n",
            "0 upgraded, 2 newly installed, 0 to remove and 21 not upgraded.\n",
            "Need to get 95.5 kB of archives.\n",
            "After this operation, 289 kB of additional disk space will be used.\n",
            "Get:1 http://archive.ubuntu.com/ubuntu focal/universe amd64 libopenslide0 amd64 3.4.1+dfsg-4 [82.1 kB]\n",
            "Get:2 http://archive.ubuntu.com/ubuntu focal/universe amd64 openslide-tools amd64 3.4.1+dfsg-4 [13.4 kB]\n",
            "Fetched 95.5 kB in 1s (174 kB/s)\n",
            "Selecting previously unselected package libopenslide0.\n",
            "(Reading database ... 128126 files and directories currently installed.)\n",
            "Preparing to unpack .../libopenslide0_3.4.1+dfsg-4_amd64.deb ...\n",
            "Unpacking libopenslide0 (3.4.1+dfsg-4) ...\n",
            "Selecting previously unselected package openslide-tools.\n",
            "Preparing to unpack .../openslide-tools_3.4.1+dfsg-4_amd64.deb ...\n",
            "Unpacking openslide-tools (3.4.1+dfsg-4) ...\n",
            "Setting up libopenslide0 (3.4.1+dfsg-4) ...\n",
            "Setting up openslide-tools (3.4.1+dfsg-4) ...\n",
            "Processing triggers for man-db (2.9.1-1) ...\n",
            "Processing triggers for libc-bin (2.31-0ubuntu9.9) ...\n",
            "Looking in indexes: https://pypi.org/simple, https://us-python.pkg.dev/colab-wheels/public/simple/\n",
            "Collecting openslide-python\n",
            "  Downloading openslide-python-1.2.0.tar.gz (338 kB)\n",
            "\u001b[2K     \u001b[90m━━━━━━━━━━━━━━━━━━━━━━━━━━━━━━━━━━━━━━━\u001b[0m \u001b[32m338.7/338.7 KB\u001b[0m \u001b[31m7.0 MB/s\u001b[0m eta \u001b[36m0:00:00\u001b[0m\n",
            "\u001b[?25h  Preparing metadata (setup.py) ... \u001b[?25l\u001b[?25hdone\n",
            "Requirement already satisfied: Pillow in /usr/local/lib/python3.8/dist-packages (from openslide-python) (7.1.2)\n",
            "Building wheels for collected packages: openslide-python\n",
            "  Building wheel for openslide-python (setup.py) ... \u001b[?25l\u001b[?25hdone\n",
            "  Created wheel for openslide-python: filename=openslide_python-1.2.0-cp38-cp38-linux_x86_64.whl size=28233 sha256=080fc955764a450ebf0413c96d63937532c967cdbd0fe01ae041c33b6ce3d5e5\n",
            "  Stored in directory: /root/.cache/pip/wheels/ae/74/4e/f8654d229eb249d1345e3df0191030ad77e7a6a2114df7cd28\n",
            "Successfully built openslide-python\n",
            "Installing collected packages: openslide-python\n",
            "Successfully installed openslide-python-1.2.0\n"
          ]
        }
      ]
    },
    {
      "cell_type": "code",
      "source": [
        "import os\n",
        "import cv2\n",
        "from PIL import Image\n",
        "import staintools\n",
        "from openslide import OpenSlide\n",
        "from tqdm import tqdm\n",
        "import numpy as np"
      ],
      "metadata": {
        "id": "dR112Iw-2RAw"
      },
      "execution_count": null,
      "outputs": []
    },
    {
      "cell_type": "markdown",
      "source": [
        "<p dir=\"rtl\"> برای دانلود تصاویر نیاز است که uuid آن را به gdc client پاس بدهیم. </p>"
      ],
      "metadata": {
        "id": "qZbDJ3HJKJD6"
      }
    },
    {
      "cell_type": "code",
      "source": [
        "def download_svs(UUID):\n",
        "  os.system(\"gdc-client download \" + UUID)  \n",
        "  for file in os.listdir(UUID):\n",
        "    if file.endswith(\".svs\"):\n",
        "      return UUID + \"/\" + file"
      ],
      "metadata": {
        "id": "Pd5le8LI2SV9"
      },
      "execution_count": null,
      "outputs": []
    },
    {
      "cell_type": "markdown",
      "source": [
        "<p dir=\"rtl\"> هر عکس را به پچ‌های 1024 و 2048 و 3072 پیکسلی تقسیم میکنیم. سپس این پچ‌ها را تبدیل به یک عکس 299 در 299 میکنیم. در این‌جا سعی شده است با الگوریتم otsu پچ‌هایی که حاوی اطلاعات مهمی نیستند حذف شوند. </p>"
      ],
      "metadata": {
        "id": "dWkxeFWOKWh2"
      }
    },
    {
      "cell_type": "code",
      "source": [
        "def iterate(UUID, source_image, w, h, normalizer, patch_size, output_shape):\n",
        "  global UUID_to_filename\n",
        "  for x in tqdm(range(500, w - 500, patch_size)):\n",
        "    if x + patch_size >= w - 510:\n",
        "      continue\n",
        "    for y in range(500, h - 500, patch_size):\n",
        "      if y + patch_size >= h - 510:\n",
        "        continue\n",
        "      patched_image = source_image.read_region(location=(x, y), level=0, size=(patch_size, patch_size)).convert(\"RGB\").resize(output_shape, Image.LANCZOS)\n",
        "      patched_image = np.array(patched_image)\n",
        "      gray_image = cv2.cvtColor(patched_image, cv2.COLOR_BGR2GRAY)\n",
        "      ret, th = cv2.threshold(gray_image, 0, 255, cv2.THRESH_BINARY+cv2.THRESH_OTSU)\n",
        "      white_percentage1 = np.where(gray_image > 220, 1, 0).sum() / (output_shape[0] * output_shape[0])\n",
        "      white_percentage2 = np.count_nonzero(th[th == 255]) / (output_shape[0] * output_shape[0])\n",
        "      if white_percentage2 < 0.9 and white_percentage1 < 0.9:\n",
        "        try:\n",
        "          normalized_image = normalizer.transform(patched_image)\n",
        "        except:\n",
        "          continue\n",
        "        I = Image.fromarray(patched_image)\n",
        "        path = \"/content/drive/MyDrive/histo/\" + UUID_to_filename[UUID] + \"/\" + str(patch_size) + \"/\" + str(x) + \"_\" + str(y) + \".png\"\n",
        "        I.save(path, quality=95)\n",
        "\n",
        "def patch(UUID, target_image_path, source_image_path):\n",
        "    global UUID_to_filename\n",
        "    main_path = \"/content/drive/MyDrive/histo/\"\n",
        "    if not os.path.exists(main_path + UUID_to_filename[UUID]):\n",
        "      os.mkdir(main_path + UUID_to_filename[UUID])\n",
        "\n",
        "    if not os.path.exists(main_path + UUID_to_filename[UUID] + \"/\" + \"1024\"):\n",
        "      os.mkdir(main_path + UUID_to_filename[UUID] + \"/\" + \"1024\")\n",
        "    if not os.path.exists(main_path + UUID_to_filename[UUID] + \"/\" + \"2048\"):\n",
        "      os.mkdir(main_path + UUID_to_filename[UUID] + \"/\" + \"2048\")\n",
        "    if not os.path.exists(main_path + UUID_to_filename[UUID] + \"/\" + \"3072\"):\n",
        "      os.mkdir(main_path + UUID_to_filename[UUID] + \"/\" + \"3072\")\n",
        "\n",
        "    source_image = OpenSlide(source_image_path)\n",
        "    normalizer = staintools.StainNormalizer(method='vahadane')\n",
        "    target_image = staintools.read_image(target_image_path)\n",
        "    normalizer.fit(target_image)\n",
        "    # normalizer = None\n",
        "\n",
        "    w, h = source_image.dimensions\n",
        "    output_shape = (299, 299)\n",
        "\n",
        "    iterate(UUID, source_image, w, h, normalizer, 1024, output_shape)\n",
        "    iterate(UUID, source_image, w, h, normalizer, 2048, output_shape)\n",
        "    iterate(UUID, source_image, w, h, normalizer, 3072, output_shape)"
      ],
      "metadata": {
        "id": "rD1t_Orc2TXX"
      },
      "execution_count": null,
      "outputs": []
    },
    {
      "cell_type": "markdown",
      "source": [
        "<p dir=\"rtl\"> uuid ها را از روی فایل manifest پیدا میکنیم و تک به تک پردازش‌های گفته‌شده در بالا را روی آن‌ها اجرا می‌کنیم. </p>"
      ],
      "metadata": {
        "id": "n8zHEw8LLGHZ"
      }
    },
    {
      "cell_type": "code",
      "source": [
        "UUID_to_filename = {}\n",
        "with open('manifest.txt', 'r') as file:\n",
        "  for line in file:\n",
        "    break\n",
        "  for line in file:\n",
        "    UUID, filename, md5, size, status = line.split()\n",
        "    UUID_to_filename[UUID] = filename.split(\".\")[0]\n",
        "    size = int(size) // 1024 ** 2\n",
        "    if size > 500:\n",
        "      continue\n",
        "    if not os.path.exists(\"/content/drive/MyDrive/histo/\" + UUID_to_filename[UUID]):\n",
        "      print(f'downloading {filename} ... with size {size} MB')\n",
        "      filepath = download_svs(UUID)\n",
        "      print(\"download ended\")\n",
        "      patch(UUID, \"colorstandard_brca.png\", filepath)\n",
        "      os.remove(filepath)\n",
        "    else:\n",
        "      pass\n",
        "      # print(\"using existing file...\", filename)\n",
        "      # for sub_file in os.listdir(UUID):\n",
        "      #   if sub_file.endswith(\".svs\"):\n",
        "      #     filepath =  UUID + \"/\" + sub_file\n",
        "      #     break\n"
      ],
      "metadata": {
        "colab": {
          "base_uri": "https://localhost:8080/"
        },
        "id": "VdQ8tOP52U-o",
        "outputId": "39675e4a-33e3-43bb-c690-39a0c46cc2b5"
      },
      "execution_count": null,
      "outputs": [
        {
          "output_type": "stream",
          "name": "stdout",
          "text": [
            "downloading TCGA-A7-A0CJ-01Z-00-DX1.E26F2F62-D688-4373-BB7B-790A06734E49.svs ... with size 220 MB\n",
            "download ended\n"
          ]
        },
        {
          "output_type": "stream",
          "name": "stderr",
          "text": [
            "100%|██████████| 30/30 [03:21<00:00,  6.71s/it]\n",
            "100%|██████████| 15/15 [02:51<00:00, 11.46s/it]\n",
            "100%|██████████| 10/10 [02:35<00:00, 15.57s/it]\n"
          ]
        },
        {
          "output_type": "stream",
          "name": "stdout",
          "text": [
            "downloading TCGA-A2-A0YE-01A-01-TS1.03c71807-b82c-4b01-8962-c6ac3d1b3445.svs ... with size 384 MB\n",
            "download ended\n"
          ]
        },
        {
          "output_type": "stream",
          "name": "stderr",
          "text": [
            "100%|██████████| 112/112 [05:19<00:00,  2.85s/it]\n",
            "100%|██████████| 56/56 [04:36<00:00,  4.93s/it]\n",
            "100%|██████████| 38/38 [04:32<00:00,  7.16s/it]\n"
          ]
        },
        {
          "output_type": "stream",
          "name": "stdout",
          "text": [
            "downloading TCGA-BH-A0BO-11A-01-TSA.dd5e8987-6e95-4412-b76a-c36cadb44da9.svs ... with size 323 MB\n",
            "download ended\n"
          ]
        },
        {
          "output_type": "stream",
          "name": "stderr",
          "text": [
            "100%|██████████| 110/110 [05:54<00:00,  3.22s/it]\n",
            "100%|██████████| 55/55 [05:23<00:00,  5.88s/it]\n",
            "100%|██████████| 37/37 [05:14<00:00,  8.50s/it]\n"
          ]
        },
        {
          "output_type": "stream",
          "name": "stdout",
          "text": [
            "downloading TCGA-BH-A42V-01A-01-TS1.34D6AC99-06D3-4A17-8519-2D71185DF7A4.svs ... with size 229 MB\n",
            "download ended\n"
          ]
        },
        {
          "output_type": "stream",
          "name": "stderr",
          "text": [
            "100%|██████████| 99/99 [04:10<00:00,  2.53s/it]\n",
            "100%|██████████| 50/50 [03:56<00:00,  4.73s/it]\n",
            "100%|██████████| 33/33 [03:47<00:00,  6.90s/it]\n"
          ]
        },
        {
          "output_type": "stream",
          "name": "stdout",
          "text": [
            "downloading TCGA-S3-A6ZH-01Z-00-DX1.E728FF79-4921-436F-BFF5-5B782C0EEB9A.svs ... with size 425 MB\n",
            "download ended\n"
          ]
        },
        {
          "output_type": "stream",
          "name": "stderr",
          "text": [
            "100%|██████████| 50/50 [04:22<00:00,  5.25s/it]\n",
            "100%|██████████| 25/25 [03:47<00:00,  9.08s/it]\n",
            "100%|██████████| 17/17 [03:41<00:00, 13.00s/it]\n"
          ]
        },
        {
          "output_type": "stream",
          "name": "stdout",
          "text": [
            "downloading TCGA-AQ-A04H-01Z-00-DX1.5AC1E459-EF27-401D-98FD-0AC16559AF17.svs ... with size 488 MB\n",
            "download ended\n"
          ]
        },
        {
          "output_type": "stream",
          "name": "stderr",
          "text": [
            "100%|██████████| 131/131 [06:58<00:00,  3.19s/it]\n",
            "100%|██████████| 66/66 [06:29<00:00,  5.89s/it]\n",
            "100%|██████████| 44/44 [06:11<00:00,  8.45s/it]\n"
          ]
        },
        {
          "output_type": "stream",
          "name": "stdout",
          "text": [
            "downloading TCGA-OL-A66L-01A-01-TSA.1A607901-B225-4E1B-B6F1-449FA90EE9B8.svs ... with size 263 MB\n",
            "download ended\n"
          ]
        },
        {
          "output_type": "stream",
          "name": "stderr",
          "text": [
            "100%|██████████| 109/109 [05:18<00:00,  2.93s/it]\n",
            "100%|██████████| 55/55 [05:02<00:00,  5.49s/it]\n",
            "100%|██████████| 37/37 [04:43<00:00,  7.66s/it]\n"
          ]
        },
        {
          "output_type": "stream",
          "name": "stdout",
          "text": [
            "downloading TCGA-A7-A0CJ-01A-02-BSB.c0dd564e-d0a6-4e94-b050-824b05d29f23.svs ... with size 308 MB\n",
            "download ended\n"
          ]
        },
        {
          "output_type": "stream",
          "name": "stderr",
          "text": [
            "100%|██████████| 81/81 [03:28<00:00,  2.57s/it]\n",
            "100%|██████████| 41/41 [02:54<00:00,  4.27s/it]\n",
            "100%|██████████| 27/27 [02:52<00:00,  6.38s/it]\n"
          ]
        },
        {
          "output_type": "stream",
          "name": "stdout",
          "text": [
            "downloading TCGA-AC-A3YJ-01A-01-TSA.BBE147CC-755E-4AB3-99FF-2B5D846A7A92.svs ... with size 467 MB\n",
            "download ended\n"
          ]
        },
        {
          "output_type": "stream",
          "name": "stderr",
          "text": [
            "100%|██████████| 172/172 [09:18<00:00,  3.25s/it]\n",
            "100%|██████████| 86/86 [08:58<00:00,  6.26s/it]\n",
            "100%|██████████| 58/58 [08:38<00:00,  8.95s/it]\n"
          ]
        },
        {
          "output_type": "stream",
          "name": "stdout",
          "text": [
            "downloading TCGA-AO-A1KQ-01A-01-TSA.7154a02c-5a29-46ea-94d9-6453a6125e15.svs ... with size 277 MB\n",
            "download ended\n"
          ]
        },
        {
          "output_type": "stream",
          "name": "stderr",
          "text": [
            "100%|██████████| 76/76 [03:33<00:00,  2.81s/it]\n",
            "100%|██████████| 38/38 [03:06<00:00,  4.91s/it]\n",
            "100%|██████████| 26/26 [03:01<00:00,  6.97s/it]\n"
          ]
        },
        {
          "output_type": "stream",
          "name": "stdout",
          "text": [
            "downloading TCGA-B6-A0RI-01A-01-TS1.89a3333b-0f81-4154-a28d-91bc53e7682c.svs ... with size 224 MB\n",
            "download ended\n"
          ]
        },
        {
          "output_type": "stream",
          "name": "stderr",
          "text": [
            "100%|██████████| 88/88 [04:33<00:00,  3.11s/it]\n",
            "100%|██████████| 44/44 [04:19<00:00,  5.89s/it]\n",
            "100%|██████████| 30/30 [04:23<00:00,  8.80s/it]\n"
          ]
        },
        {
          "output_type": "stream",
          "name": "stdout",
          "text": [
            "downloading TCGA-BH-A0BO-01A-01-BSA.fb0f8c89-81d2-4f60-af1b-44a84aae1d3a.svs ... with size 392 MB\n",
            "download ended\n"
          ]
        },
        {
          "output_type": "stream",
          "name": "stderr",
          "text": [
            "100%|██████████| 162/162 [07:41<00:00,  2.85s/it]\n",
            "100%|██████████| 81/81 [06:53<00:00,  5.11s/it]\n",
            "100%|██████████| 54/54 [07:06<00:00,  7.90s/it]\n"
          ]
        },
        {
          "output_type": "stream",
          "name": "stdout",
          "text": [
            "downloading TCGA-BH-A5J0-01A-01-TS1.0088B960-4EA8-4BD3-B9B4-7C1FE59D4925.svs ... with size 264 MB\n",
            "download ended\n"
          ]
        },
        {
          "output_type": "stream",
          "name": "stderr",
          "text": [
            "100%|██████████| 107/107 [04:39<00:00,  2.61s/it]\n",
            "100%|██████████| 54/54 [04:15<00:00,  4.74s/it]\n",
            "100%|██████████| 36/36 [04:09<00:00,  6.94s/it]\n"
          ]
        },
        {
          "output_type": "stream",
          "name": "stdout",
          "text": [
            "downloading TCGA-A7-A0CJ-01Z-00-DX2.4B591117-5FC9-4B43-8A45-444CCCABC666.svs ... with size 253 MB\n",
            "download ended\n"
          ]
        },
        {
          "output_type": "stream",
          "name": "stderr",
          "text": [
            "100%|██████████| 38/38 [03:51<00:00,  6.08s/it]\n",
            "100%|██████████| 19/19 [03:24<00:00, 10.76s/it]\n",
            "100%|██████████| 13/13 [03:19<00:00, 15.31s/it]\n"
          ]
        }
      ]
    },
    {
      "cell_type": "code",
      "source": [],
      "metadata": {
        "id": "V4L5k0ObxdC8"
      },
      "execution_count": null,
      "outputs": []
    }
  ]
}