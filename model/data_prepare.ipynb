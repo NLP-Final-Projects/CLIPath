{
 "cells": [
  {
   "attachments": {},
   "cell_type": "markdown",
   "metadata": {},
   "source": [
    "<div align=justify dir=rtl>\n",
    "\n",
    "<p>\n",
    "\n",
    "در این کد قصد داریم که دیتا خود را آماده کنیم . در واقع یک سری تصویر داریم به همراه تعدادی کپشن و میخواهیم یک دیتافریم بسازیم که داری دو ستون است که یکی اسم و مسیر تصاویر است و دیگری کپشن مربوطه به آن تصویر است\n",
    "</p>\n"
   ]
  },
  {
   "cell_type": "code",
   "execution_count": 3,
   "metadata": {},
   "outputs": [],
   "source": [
    "import os\n",
    "import pandas as pd\n",
    "import os\n",
    "import glob\n",
    "data_path='E:/NLP/content/normalized'\n",
    "folders= os.listdir('E:/NLP/content/normalized')\n",
    "\n",
    "folder_path = \"E:/NLP/Finalized_samples 2\"  # replace with the path to your folder\n",
    "\n",
    "# get a list of all txt files in the folder\n",
    "txt_files = glob.glob(os.path.join(folder_path, \"*.txt\"))\n",
    "\n",
    "# create an empty dictionary to store file contents\n",
    "file_contents = {}\n",
    "\n",
    "# loop through each txt file\n",
    "for txt_file in txt_files:\n",
    "    # get the filename without the path and extension\n",
    "    file_name = os.path.splitext(os.path.basename(txt_file))[0]\n",
    "    \n",
    "    # read the file content and store it in the dictionary\n",
    "    with open(txt_file, \"r\") as f:\n",
    "        content = f.read()\n",
    "        file_contents[file_name] = content"
   ]
  },
  {
   "cell_type": "code",
   "execution_count": 4,
   "metadata": {},
   "outputs": [],
   "source": [
    "images=[]\n",
    "captions=[]\n",
    "for folder in folders:\n",
    "    files=os.listdir(data_path+'/'+folder+'/1024/')\n",
    "    for file in files:\n",
    "        images.append(data_path+'/'+folder+'/1024/'+file)\n",
    "        captions.append(file_contents[folder[:12]])"
   ]
  },
  {
   "cell_type": "code",
   "execution_count": 9,
   "metadata": {},
   "outputs": [],
   "source": [
    "df=pd.DataFrame()\n",
    "df['images']=images\n",
    "df['captions']=captions\n",
    "df.to_csv('E:/NLP/base_line_data.csv')"
   ]
  },
  {
   "cell_type": "code",
   "execution_count": null,
   "metadata": {},
   "outputs": [],
   "source": []
  }
 ],
 "metadata": {
  "kernelspec": {
   "display_name": "BRACS2",
   "language": "python",
   "name": "python3"
  },
  "language_info": {
   "codemirror_mode": {
    "name": "ipython",
    "version": 3
   },
   "file_extension": ".py",
   "mimetype": "text/x-python",
   "name": "python",
   "nbconvert_exporter": "python",
   "pygments_lexer": "ipython3",
   "version": "3.9.16"
  },
  "orig_nbformat": 4,
  "vscode": {
   "interpreter": {
    "hash": "8011ccffbbf336a6c1873214192fb2d1b181248fdcea2e4f8c4e0282fc5ab887"
   }
  }
 },
 "nbformat": 4,
 "nbformat_minor": 2
}
