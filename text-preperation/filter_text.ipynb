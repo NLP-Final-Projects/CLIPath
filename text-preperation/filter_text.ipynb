{
 "cells": [
  {
   "cell_type": "code",
   "execution_count": 2,
   "id": "56157742",
   "metadata": {},
   "outputs": [],
   "source": [
    "import os\n",
    "import fitz\n",
    "import shutil"
   ]
  },
  {
   "cell_type": "code",
   "execution_count": 3,
   "id": "717df57a",
   "metadata": {},
   "outputs": [],
   "source": [
    "def text_extractor(file_name):\n",
    "    doc = fitz.open(file_name)\n",
    "    text = \"\"\n",
    "    for page in doc:\n",
    "        text+=page.get_text()\n",
    "    return(text)"
   ]
  },
  {
   "cell_type": "code",
   "execution_count": 4,
   "id": "3a93e146",
   "metadata": {},
   "outputs": [
    {
     "ename": "NameError",
     "evalue": "name 'files_name' is not defined",
     "output_type": "error",
     "traceback": [
      "\u001b[0;31m---------------------------------------------------------------------------\u001b[0m",
      "\u001b[0;31mNameError\u001b[0m                                 Traceback (most recent call last)",
      "\u001b[0;32m/tmp/ipykernel_10774/2795905114.py\u001b[0m in \u001b[0;36m<module>\u001b[0;34m\u001b[0m\n\u001b[1;32m     10\u001b[0m \u001b[0;31m# extract texts from pdf files and save them\u001b[0m\u001b[0;34m\u001b[0m\u001b[0;34m\u001b[0m\u001b[0m\n\u001b[1;32m     11\u001b[0m \u001b[0;32mfor\u001b[0m \u001b[0mi\u001b[0m \u001b[0;32min\u001b[0m \u001b[0mrange\u001b[0m\u001b[0;34m(\u001b[0m\u001b[0mlen\u001b[0m\u001b[0;34m(\u001b[0m\u001b[0mfiles\u001b[0m\u001b[0;34m)\u001b[0m\u001b[0;34m)\u001b[0m\u001b[0;34m:\u001b[0m\u001b[0;34m\u001b[0m\u001b[0;34m\u001b[0m\u001b[0m\n\u001b[0;32m---> 12\u001b[0;31m     \u001b[0mtext\u001b[0m \u001b[0;34m=\u001b[0m \u001b[0mtext_extractor\u001b[0m\u001b[0;34m(\u001b[0m\u001b[0;34m'Archive/'\u001b[0m \u001b[0;34m+\u001b[0m \u001b[0mfiles_name\u001b[0m\u001b[0;34m[\u001b[0m\u001b[0mi\u001b[0m\u001b[0;34m]\u001b[0m\u001b[0;34m)\u001b[0m\u001b[0;34m\u001b[0m\u001b[0;34m\u001b[0m\u001b[0m\n\u001b[0m\u001b[1;32m     13\u001b[0m     \u001b[0;32mif\u001b[0m \u001b[0mtext\u001b[0m \u001b[0;34m!=\u001b[0m \u001b[0;34m''\u001b[0m\u001b[0;34m:\u001b[0m\u001b[0;34m\u001b[0m\u001b[0;34m\u001b[0m\u001b[0m\n\u001b[1;32m     14\u001b[0m         \u001b[0mfile1\u001b[0m \u001b[0;34m=\u001b[0m \u001b[0mopen\u001b[0m\u001b[0;34m(\u001b[0m\u001b[0;34m\"text_files/\"\u001b[0m \u001b[0;34m+\u001b[0m \u001b[0mfiles_name\u001b[0m\u001b[0;34m[\u001b[0m\u001b[0mi\u001b[0m\u001b[0;34m]\u001b[0m\u001b[0;34m[\u001b[0m\u001b[0;34m:\u001b[0m\u001b[0;34m-\u001b[0m\u001b[0;36m3\u001b[0m\u001b[0;34m]\u001b[0m \u001b[0;34m+\u001b[0m \u001b[0;34m'txt'\u001b[0m\u001b[0;34m,\u001b[0m \u001b[0;34m\"w\"\u001b[0m\u001b[0;34m)\u001b[0m\u001b[0;34m\u001b[0m\u001b[0;34m\u001b[0m\u001b[0m\n",
      "\u001b[0;31mNameError\u001b[0m: name 'files_name' is not defined"
     ]
    }
   ],
   "source": [
    "dir_path = r'Archive'\n",
    "files = []\n",
    "\n",
    "# find all files in 'dir_path' directory\n",
    "for path in os.listdir(dir_path):\n",
    "    if os.path.isfile(os.path.join(dir_path, path)):\n",
    "        files.append(path)\n",
    "\n",
    "\n",
    "# extract texts from pdf files and save them\n",
    "for i in range(len(files)):\n",
    "    text = text_extractor('Archive/' + files_name[i])\n",
    "    if text != '':\n",
    "        file1 = open(\"text_files/\" + files_name[i][:-3] + 'txt', \"w\")\n",
    "        file1.write(text)\n",
    "        file1.close()\n",
    "        \n",
    "# select files that have the 'Diagnosis' section\n",
    "res = []\n",
    "for i in range(len(files_name)):\n",
    "    text = text_extractor(files_name[i])\n",
    "    if \"DIAGNOSIS\" in text:\n",
    "        s = text.index('DIAGNOSIS')\n",
    "        if (\"A.\" or \"B.\" or \"A:\" or \"B:\") in text[s: s+1000]:\n",
    "            res.append(files_name[i])\n",
    "    if \"Final Pathologic Diagnosis\" in text:\n",
    "        s = text.index('Final Pathologic Diagnosis')\n",
    "        if (\"A.\" or \"B.\") in text[s: s+1000]:\n",
    "            res.append(files_name[i])\n",
    "    if \"FINAL DIAGNOSIS\" in text:\n",
    "        s = text.index('FINAL DIAGNOSIS')\n",
    "        if (\"A.\" or \"B.\") in text[s: s+1000]:\n",
    "            res.append(files_name[i])\n",
    "    if \"Diagnosis:\" in text:\n",
    "        s = text.index('Diagnosis:')\n",
    "        if (\"A:\" or \"B:\") in text[s: s+1000]:\n",
    "            res.append(files_name[i])\n",
    "    if \"FINAL DIAGNOSIS:\" in text:\n",
    "        s = text.index('FINAL DIAGNOSIS:')\n",
    "        if (\"PART 1 :\" or \"PART 2 :\") in text[s: s+1000]:\n",
    "            res.append(files_name[i])\n",
    "\n"
   ]
  },
  {
   "cell_type": "code",
   "execution_count": null,
   "id": "d7f414a8",
   "metadata": {},
   "outputs": [],
   "source": [
    "# copy files into 'samples_with_diagnosis' folder \n",
    "destination = \"/home/mahdi/Master/Term03/NLP/Project/samples_with_diagnosis\"\n",
    "for i in range(len(res)):\n",
    "    source = \"Archive/\" + res[i]\n",
    "\n",
    "    try:\n",
    "        shutil.copy(source, destination)\n",
    " \n",
    "    # If source and destination are same\n",
    "    except shutil.SameFileError:\n",
    "        print(\"Source and destination represents the same file.\")\n",
    "\n",
    "    # If there is any permission issue\n",
    "    except PermissionError:\n",
    "        print(\"Permission denied.\")\n",
    "\n",
    "    # For other errors\n",
    "    except:\n",
    "        print(\"Error occurred while copying file.\")\n"
   ]
  }
 ],
 "metadata": {},
 "nbformat": 4,
 "nbformat_minor": 5
}
